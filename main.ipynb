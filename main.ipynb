{
 "cells": [
  {
   "cell_type": "code",
   "execution_count": 1,
   "metadata": {},
   "outputs": [],
   "source": [
    "import pandas as pd"
   ]
  },
  {
   "cell_type": "code",
   "execution_count": 2,
   "metadata": {},
   "outputs": [],
   "source": [
    "df = pd.read_csv('world_alcohol.csv')"
   ]
  },
  {
   "cell_type": "code",
   "execution_count": 3,
   "metadata": {},
   "outputs": [],
   "source": [
    "world_alcohol_data = pd.read_csv('world_alcohol.csv')"
   ]
  },
  {
   "cell_type": "code",
   "execution_count": 4,
   "metadata": {},
   "outputs": [
    {
     "name": "stdout",
     "output_type": "stream",
     "text": [
      "Number of records where wine consumption per person is greater than 2: 3\n"
     ]
    }
   ],
   "source": [
    "# Filter records where Beverage Type is \"Wine\" and consumption is greater than 2\n",
    "wine_consumption = world_alcohol_data[\n",
    "    (world_alcohol_data['Beverage Types'] == 'Wine') &\n",
    "    (world_alcohol_data['Display Value'] > 2)\n",
    "]\n",
    "\n",
    "# Count the number of such records\n",
    "wine_consumption_count = wine_consumption.shape[0]\n",
    "\n",
    "print(f\"Number of records where wine consumption per person is greater than 2: {wine_consumption_count}\")"
   ]
  }
 ],
 "metadata": {
  "kernelspec": {
   "display_name": ".venv",
   "language": "python",
   "name": "python3"
  },
  "language_info": {
   "codemirror_mode": {
    "name": "ipython",
    "version": 3
   },
   "file_extension": ".py",
   "mimetype": "text/x-python",
   "name": "python",
   "nbconvert_exporter": "python",
   "pygments_lexer": "ipython3",
   "version": "3.13.0"
  }
 },
 "nbformat": 4,
 "nbformat_minor": 2
}
